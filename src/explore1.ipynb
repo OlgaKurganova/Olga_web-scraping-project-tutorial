{
 "cells": [
  {
   "cell_type": "code",
   "execution_count": null,
   "metadata": {},
   "outputs": [],
   "source": []
  },
  {
   "cell_type": "code",
   "execution_count": null,
   "metadata": {},
   "outputs": [],
   "source": [
    "import requests\n",
    "import pandas as pd\n",
    "import time\n",
    "\n",
    "# Seleccionar el recurso a descargar\n",
    "resource_url =\"https://www.macrotrends.net/stocks/charts/TSLA/tesla/revenue\" \n",
    "# Petición para descargar el fichero de Internet\n",
    "data = requests.get(resource_url, time.sleep(10)).text\n",
    "\n",
    "# Definir el User-Agent como un navegador web estándar (Chrome)\n",
    "headers = {\n",
    "    \"User-Agent\": \"Mozilla/5.0 (Windows NT 10.0; Win64; x64) AppleWebKit/537.36 (KHTML, like Gecko) Chrome/58.0.3029.110 Safari/537.3\"\n",
    "}\n",
    "\n",
    "# Si la petición se ha ejecutado correctamente (código 200), entonces el fichero se ha podido descargar\n",
    "if response:\n",
    "    request = requests.get(resource_url, headers = headers)\n",
    "    time.sleep(10)\n",
    "    data = request.text\n",
    "\n",
    "data"
   ]
  }
 ],
 "metadata": {
  "language_info": {
   "name": "python"
  }
 },
 "nbformat": 4,
 "nbformat_minor": 2
}
